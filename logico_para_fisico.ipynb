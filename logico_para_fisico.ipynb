{
 "cells": [
  {
   "cell_type": "markdown",
   "id": "c85a4dac-ea58-4403-88aa-18fdae96391e",
   "metadata": {},
   "source": [
    "# <b>CONVERSOR DE NOMES LÓGICOS PARA FÍSICOS</b>"
   ]
  },
  {
   "cell_type": "markdown",
   "id": "33aae930-00c4-40e6-8ebe-518d0c625c2d",
   "metadata": {},
   "source": [
    "## <b>1. Instalação e importação de bibliotecas</b>"
   ]
  },
  {
   "cell_type": "code",
   "execution_count": 1,
   "id": "637947dc-d89c-4dfc-8998-3d079f6ffea3",
   "metadata": {},
   "outputs": [],
   "source": [
    "# Descomente a linha a seguir apenas no primeiro uso. A lib \"openpyxl\" é necessária para o Pandas ler arquivos do Excel\n",
    "#!pip install openpyxl"
   ]
  },
  {
   "cell_type": "code",
   "execution_count": 2,
   "id": "308902af-2364-4056-8c3f-1f03f91cc5f7",
   "metadata": {},
   "outputs": [],
   "source": [
    "import pandas as pd\n",
    "from unidecode import unidecode\n",
    "from typing import Union, List"
   ]
  },
  {
   "cell_type": "markdown",
   "id": "37cbc899-76ad-405a-94ff-8a0bad56545b",
   "metadata": {},
   "source": [
    "## <b>2. Importação do Glossário de termos</b>"
   ]
  },
  {
   "cell_type": "code",
   "execution_count": 3,
   "id": "9c4ef651-e43c-4be1-9642-9769252afe89",
   "metadata": {},
   "outputs": [],
   "source": [
    "# Abre o glossário no formato Excel (altere a localização do glossário, se necessário)\n",
    "df_glossario = pd.read_excel('Glossário de termos.xlsx')"
   ]
  },
  {
   "cell_type": "markdown",
   "id": "9554848e-2b7d-488e-a0a1-3738719dd7a2",
   "metadata": {},
   "source": [
    "## <b>3. Função de conversão de nome lógico</b>"
   ]
  },
  {
   "cell_type": "code",
   "execution_count": 4,
   "id": "248deac7-ae2a-497a-a0b2-c6cba7f7e659",
   "metadata": {},
   "outputs": [],
   "source": [
    "def converter_para_nome_fisico(glossario: pd.DataFrame, nomes_logicos: Union[str, List[str]]) -> pd.DataFrame:\n",
    "    # Conjunto de palavras a serem removidas do nome lógico\n",
    "    PALAVRAS_REMOVER = {'o', 'as', 'os', 'um', 'uma', 'uns', 'umas', 'de', 'do', 'da', 'dos', 'das', 'em', 'no', 'na', 'nos', 'nas', 'por', 'para', 'com', 'sem', 'sobre', 'entre', 'e', 'ou', 'mas', 'se', 'que'}\n",
    "    \n",
    "    # Dicionário de substituições baseado no glossário\n",
    "    substituicoes = dict(zip(glossario['NOME'].str.strip(), glossario['ABREVIAÇÃO'].str.strip()))\n",
    "\n",
    "    def normalizar(texto: str) -> str:\n",
    "        # Remove acentos, converte para maiúsculas e preserva aspas\n",
    "        return ''.join(c if c in '\"' else unidecode(c) for c in texto).upper()\n",
    "\n",
    "    def tratar_nome_logico(nome_logico_normalizado: str) -> List[str]:\n",
    "        palavras = nome_logico_normalizado.split()\n",
    "        # Processa as palavras, unindo 'A' com a próxima palavra e removendo palavras desnecessárias\n",
    "        return [f\"{p} {palavras[i+1]}\" if p == 'A' and i < len(palavras) - 1 else p for i, p in enumerate(palavras) if p.lower() not in PALAVRAS_REMOVER]\n",
    "\n",
    "    def converter(nome_logico: str) -> str:\n",
    "        nome_logico_normalizado = normalizar(nome_logico)\n",
    "        palavras = tratar_nome_logico(nome_logico_normalizado)\n",
    "        \n",
    "        # Verifica se o nome completo está no glossário\n",
    "        if nome_logico_normalizado in substituicoes:\n",
    "            return substituicoes[nome_logico_normalizado]\n",
    "        \n",
    "        # Verifica se todas as palavras estão no glossário\n",
    "        if all(p in substituicoes for p in palavras):\n",
    "            return '_'.join(substituicoes[p] for p in palavras)\n",
    "        \n",
    "        # Retorna '---' se não houver correspondência\n",
    "        return '---'\n",
    "\n",
    "    # Garante que nomes_logicos seja uma lista\n",
    "    nomes_logicos = [nomes_logicos] if isinstance(nomes_logicos, str) else nomes_logicos\n",
    "    \n",
    "    # Aplica a conversão para cada nome lógico\n",
    "    nomes_fisicos = [converter(nome) for nome in nomes_logicos]\n",
    "\n",
    "    # Retorna um DataFrame com os resultados\n",
    "    return pd.DataFrame({'Nome Lógico': nomes_logicos, 'Nome Físico': nomes_fisicos})"
   ]
  },
  {
   "cell_type": "markdown",
   "id": "e7049df5-f656-48a7-86c7-80bc01eea6a4",
   "metadata": {},
   "source": [
    "## <b>4. Lista de nomes lógicos a serem convertidos</b>"
   ]
  },
  {
   "cell_type": "code",
   "execution_count": 5,
   "id": "c682f9c7-f139-469d-9b4a-62ea627ae94d",
   "metadata": {},
   "outputs": [],
   "source": [
    "nomes_logicos = [\n",
    "    'A granel',\n",
    "    'Ponta \"B\"',\n",
    "    'São Paulo Futebol Clube',\n",
    "    'Agência Nacional de Saúde Suplementar',\n",
    "    'Agência-Tronco',\n",
    "    'Alívio de numerário',\n",
    "    'AnALiSe De SeNsIbIlIdAdE',\n",
    "    'Assistência técnica',\n",
    "    'Código do Curso',\n",
    "    'Nome do Curso',\n",
    "    'Texto do Curso'\n",
    "]"
   ]
  },
  {
   "cell_type": "markdown",
   "id": "23efee94-3cc5-4c5e-9ca1-ed9a69082124",
   "metadata": {},
   "source": [
    "## <b>5. Conversão para nomes físicos</b>"
   ]
  },
  {
   "cell_type": "code",
   "execution_count": 6,
   "id": "187f79dc-3f3a-4de1-9a2e-7eb2bea1d66b",
   "metadata": {},
   "outputs": [],
   "source": [
    "nomes_fisicos = converter_para_nome_fisico(df_glossario, nomes_logicos)"
   ]
  },
  {
   "cell_type": "code",
   "execution_count": 7,
   "id": "fb408d54-b6b5-47f3-88ee-dddc07b06b36",
   "metadata": {},
   "outputs": [
    {
     "data": {
      "text/html": [
       "<div>\n",
       "<style scoped>\n",
       "    .dataframe tbody tr th:only-of-type {\n",
       "        vertical-align: middle;\n",
       "    }\n",
       "\n",
       "    .dataframe tbody tr th {\n",
       "        vertical-align: top;\n",
       "    }\n",
       "\n",
       "    .dataframe thead th {\n",
       "        text-align: right;\n",
       "    }\n",
       "</style>\n",
       "<table border=\"1\" class=\"dataframe\">\n",
       "  <thead>\n",
       "    <tr style=\"text-align: right;\">\n",
       "      <th></th>\n",
       "      <th>Nome Lógico</th>\n",
       "      <th>Nome Físico</th>\n",
       "    </tr>\n",
       "  </thead>\n",
       "  <tbody>\n",
       "    <tr>\n",
       "      <th>0</th>\n",
       "      <td>A granel</td>\n",
       "      <td>GRAN</td>\n",
       "    </tr>\n",
       "    <tr>\n",
       "      <th>1</th>\n",
       "      <td>Ponta \"B\"</td>\n",
       "      <td>PNTB</td>\n",
       "    </tr>\n",
       "    <tr>\n",
       "      <th>2</th>\n",
       "      <td>São Paulo Futebol Clube</td>\n",
       "      <td>---</td>\n",
       "    </tr>\n",
       "    <tr>\n",
       "      <th>3</th>\n",
       "      <td>Agência Nacional de Saúde Suplementar</td>\n",
       "      <td>ANS</td>\n",
       "    </tr>\n",
       "    <tr>\n",
       "      <th>4</th>\n",
       "      <td>Agência-Tronco</td>\n",
       "      <td>AGTC</td>\n",
       "    </tr>\n",
       "    <tr>\n",
       "      <th>5</th>\n",
       "      <td>Alívio de numerário</td>\n",
       "      <td>ALNM</td>\n",
       "    </tr>\n",
       "    <tr>\n",
       "      <th>6</th>\n",
       "      <td>AnALiSe De SeNsIbIlIdAdE</td>\n",
       "      <td>ANLS</td>\n",
       "    </tr>\n",
       "    <tr>\n",
       "      <th>7</th>\n",
       "      <td>Assistência técnica</td>\n",
       "      <td>ATCN</td>\n",
       "    </tr>\n",
       "    <tr>\n",
       "      <th>8</th>\n",
       "      <td>Código do Curso</td>\n",
       "      <td>CD_CSO</td>\n",
       "    </tr>\n",
       "    <tr>\n",
       "      <th>9</th>\n",
       "      <td>Nome do Curso</td>\n",
       "      <td>NM_CSO</td>\n",
       "    </tr>\n",
       "    <tr>\n",
       "      <th>10</th>\n",
       "      <td>Texto do Curso</td>\n",
       "      <td>TX_CSO</td>\n",
       "    </tr>\n",
       "  </tbody>\n",
       "</table>\n",
       "</div>"
      ],
      "text/plain": [
       "                              Nome Lógico Nome Físico\n",
       "0                                A granel        GRAN\n",
       "1                               Ponta \"B\"        PNTB\n",
       "2                 São Paulo Futebol Clube         ---\n",
       "3   Agência Nacional de Saúde Suplementar         ANS\n",
       "4                          Agência-Tronco        AGTC\n",
       "5                     Alívio de numerário        ALNM\n",
       "6                AnALiSe De SeNsIbIlIdAdE        ANLS\n",
       "7                     Assistência técnica        ATCN\n",
       "8                         Código do Curso      CD_CSO\n",
       "9                           Nome do Curso      NM_CSO\n",
       "10                         Texto do Curso      TX_CSO"
      ]
     },
     "execution_count": 7,
     "metadata": {},
     "output_type": "execute_result"
    }
   ],
   "source": [
    "nomes_fisicos"
   ]
  }
 ],
 "metadata": {
  "kernelspec": {
   "display_name": "Python 3 (ipykernel)",
   "language": "python",
   "name": "python3"
  },
  "language_info": {
   "codemirror_mode": {
    "name": "ipython",
    "version": 3
   },
   "file_extension": ".py",
   "mimetype": "text/x-python",
   "name": "python",
   "nbconvert_exporter": "python",
   "pygments_lexer": "ipython3",
   "version": "3.11.9"
  }
 },
 "nbformat": 4,
 "nbformat_minor": 5
}
